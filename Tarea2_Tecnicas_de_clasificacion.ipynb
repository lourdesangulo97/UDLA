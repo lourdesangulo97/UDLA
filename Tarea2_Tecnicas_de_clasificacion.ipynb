{
 "cells": [
  {
   "cell_type": "markdown",
   "id": "d66a36dd",
   "metadata": {},
   "source": [
    "\n",
    "## Tarea 2: Clasificación Supervisada\n",
    "\n",
    "### Descripción\n",
    "La **Tarea 2** tiene como objetivo aplicar técnicas de clasificación supervisada para resolver un problema basado en datos etiquetados. Este ejercicio se centra en comprender y comparar diferentes modelos de clasificación, evaluar su desempeño y seleccionar el más adecuado.\n",
    "\n",
    "### Objetivos\n",
    "- Implementar y ajustar algoritmos de clasificación supervisada utilizando herramientas de análisis de datos.\n",
    "- Comparar el desempeño de diferentes modelos mediante métricas de evaluación.\n",
    "- Identificar el modelo que mejor se ajusta al problema planteado.\n",
    "- Relacionar la teoría de clasificación supervisada con su aplicación práctica.\n",
    "-----\n"
   ]
  },
  {
   "cell_type": "markdown",
   "id": "a3e10e53",
   "metadata": {},
   "source": [
    "## Pasos\n",
    "1. **Preparación de los Datos**:\n",
    "   - Cargar el conjunto de datos proporcionado.\n",
    "   - Realizar limpieza y transformación de los datos para asegurarse de que estén en el formato adecuado.\n",
    "   - Dividir los datos en conjuntos de entrenamiento y prueba (80%-20%)."
   ]
  },
  {
   "cell_type": "markdown",
   "id": "aa5b0f5d",
   "metadata": {},
   "source": [
    "### Importar las bibliotecas necesarias"
   ]
  },
  {
   "cell_type": "code",
   "execution_count": null,
   "id": "a6b6a30e",
   "metadata": {},
   "outputs": [],
   "source": [
    "\n",
    "import pandas as pd\n",
    "import numpy as np\n",
    "from sklearn.model_selection import train_test_split\n",
    "from sklearn.preprocessing import StandardScaler\n",
    "from sklearn.linear_model import LogisticRegression\n",
    "from sklearn.metrics import accuracy_score, classification_report, confusion_matrix\n",
    "import matplotlib.pyplot as plt\n",
    "import seaborn as sns\n",
    "from sklearn.neighbors import KNeighborsClassifier\n",
    "from sklearn.svm import SVC\n"
   ]
  },
  {
   "cell_type": "markdown",
   "id": "b5efb38d",
   "metadata": {},
   "source": [
    "### Cargar y explorar el conjunto de datos\n",
    "\n",
    "El archivo **Lead Scoring.csv** proviene del conjunto de datos \"Lead Scoring Dataset\" disponible en [Kaggle](https://www.kaggle.com/datasets/amritachatterjee09/lead-scoring-dataset).\n",
    "\n",
    "Asegúrese de que el archivo **Lead Scoring.csv** esté en el mismo directorio que este notebook.\n"
   ]
  },
  {
   "cell_type": "code",
   "execution_count": null,
   "id": "e6e0ba59",
   "metadata": {},
   "outputs": [],
   "source": [
    "\n",
    "# Cargar el conjunto de datos\n",
    "data = pd.read_csv('Lead Scoring.csv')\n",
    "\n",
    "# Exploración inicial\n",
    "print(\"Primeras filas del conjunto de datos:\")\n",
    "print(data.head())\n",
    "\n",
    "print(\"\\nInformación general del conjunto de datos:\")\n",
    "print(data.info())\n",
    "\n",
    "print(\"\\nDescripción estadística del conjunto de datos:\")\n",
    "print(data.describe())\n",
    "\n",
    "# Verificar valores nulos\n",
    "print(\"\\nConteo de valores nulos por columna:\")\n",
    "print(data.isnull().sum())\n"
   ]
  },
  {
   "cell_type": "markdown",
   "id": "53722c85",
   "metadata": {},
   "source": [
    "### Preprocesamiento de los datos\n",
    "\n",
    "En esta sección, se abordará el tratamiento de valores nulos, la codificación de variables categóricas y la normalización para preparar los datos para los modelos.\n"
   ]
  },
  {
   "cell_type": "code",
   "execution_count": null,
   "id": "477ce104",
   "metadata": {},
   "outputs": [],
   "source": [
    "# Imputación o eliminación de valores nulos según corresponda\n",
    "# Por ejemplo, eliminamos filas con valores nulos\n",
    "data = data.dropna()\n",
    "\n",
    "# Codificación de variables categóricas\n",
    "data = pd.get_dummies(data, drop_first=True)"
   ]
  },
  {
   "cell_type": "markdown",
   "id": "61db1936",
   "metadata": {},
   "source": [
    "Pregunta: ¿Qué columnas tienen la mayor cantidad de valores nulos? ¿Cómo manejaría estos valores?"
   ]
  },
  {
   "cell_type": "code",
   "execution_count": null,
   "id": "471fb922",
   "metadata": {},
   "outputs": [],
   "source": [
    "X = data.drop('Converted', axis=1)  # 'Converted' es la variable objetivo\n",
    "y = data['Converted']\n",
    "\n",
    "# Dividir los datos en conjuntos de entrenamiento y prueba\n",
    "X_train, X_test, y_train, y_test = train_test_split(X, y, test_size=0.2, random_state=42)\n",
    "# Normalización de datos\n",
    "scaler = StandardScaler()\n",
    "X_train_scaled = scaler.fit_transform(X_train)\n",
    "X_test_scaled = scaler.transform(X_test)"
   ]
  },
  {
   "cell_type": "markdown",
   "id": "94f030d6",
   "metadata": {},
   "source": [
    "2. **Selección e Implementación de Modelos**:\n",
    "   - Implementar al menos tres algoritmos de clasificación (por ejemplo, K-Nearest Neighbors, Support Vector Machines y Regresión Logística).\n",
    "   - Ajustar hiperparámetros utilizando técnicas como validación cruzada."
   ]
  },
  {
   "cell_type": "code",
   "execution_count": null,
   "id": "5dcdc617",
   "metadata": {},
   "outputs": [],
   "source": [
    "# Regresión Logística\n",
    "lr = LogisticRegression(max_iter=1000)\n",
    "lr.fit(X_train_scaled, y_train)\n",
    "y_pred_lr = model_no_scaling.predict(X_test_scaled)"
   ]
  },
  {
   "cell_type": "code",
   "execution_count": null,
   "id": "b52474f9",
   "metadata": {},
   "outputs": [],
   "source": [
    "# K-Nearest Neighbors (KNN)\n",
    "print(\"K-Nearest Neighbors (KNN):\")\n",
    "knn = KNeighborsClassifier(n_neighbors=5)\n",
    "knn.fit(X_train_scaled, y_train)\n",
    "\n",
    "y_pred_knn = knn.predict(X_test_scaled)"
   ]
  },
  {
   "cell_type": "code",
   "execution_count": null,
   "id": "db8d9233",
   "metadata": {},
   "outputs": [],
   "source": [
    "# Support Vector Machines (SVM)\n",
    "print(\"Support Vector Machines (SVM):\")\n",
    "svm = SVC(kernel='linear', C=1.0)\n",
    "svm.fit(X_train_scaled, y_train)\n",
    "\n",
    "y_pred_svm = svm.predict(X_test_scaled)"
   ]
  },
  {
   "cell_type": "markdown",
   "id": "0b30398c",
   "metadata": {},
   "source": [
    "3. **Evaluación de Modelos**:\n",
    "   - Comparar los modelos implementados utilizando métricas como precisión (accuracy), matriz de confusión, sensibilidad y especificidad.\n",
    "   - Visualizar los resultados utilizando gráficos y tablas."
   ]
  },
  {
   "cell_type": "code",
   "execution_count": null,
   "id": "7df4bb1c",
   "metadata": {},
   "outputs": [],
   "source": [
    "# Regresión Logística\n",
    "print(f'Accuracy: {accuracy_score(y_test, y_pred_lr)}\\n')\n",
    "print(\"Classification Report:\\n\", classification_report(y_test, y_pred_lr),\"\\n\")\n",
    "print('Matriz de confusión:\\n')\n",
    "# Visualizar la matriz de confusión para Regresión Logística\n",
    "plt.figure(figsize=(6, 4))\n",
    "sns.heatmap(confusion_matrix(y_test, y_pred_lr), annot=True, fmt='d', cmap='Blues')\n",
    "plt.title(\"Confusion Matrix - Regresión Logística\")\n",
    "plt.xlabel(\"Predicted\")\n",
    "plt.ylabel(\"True\")\n",
    "plt.show()"
   ]
  },
  {
   "cell_type": "code",
   "execution_count": null,
   "id": "08524a27",
   "metadata": {},
   "outputs": [],
   "source": [
    "# K-Nearest Neighbors (KNN)\n",
    "print(\"Accuracy:\", accuracy_score(y_test, y_pred_knn),\"\\n\")\n",
    "print(\"Classification Report:\\n\", classification_report(y_test, y_pred_knn),\"\\n\")\n",
    "print(\"Confusion Matrix:\\n\")\n",
    "\n",
    "# Visualizar la matriz de confusión para KNN\n",
    "plt.figure(figsize=(6, 4))\n",
    "sns.heatmap(confusion_matrix(y_test, y_pred_knn), annot=True, fmt='d', cmap='Blues')\n",
    "plt.title(\"Confusion Matrix - KNN\")\n",
    "plt.xlabel(\"Predicted\")\n",
    "plt.ylabel(\"True\")\n",
    "plt.show()"
   ]
  },
  {
   "cell_type": "code",
   "execution_count": null,
   "id": "e46bd4e1",
   "metadata": {},
   "outputs": [],
   "source": [
    "# Support Vector Machines (SVM)\n",
    "print(\"Accuracy:\", accuracy_score(y_test, y_pred_svm),\"\\n\")\n",
    "print(\"Classification Report:\\n\", classification_report(y_test, y_pred_svm),\"\\n\")\n",
    "print(\"Confusion Matrix:\\n\")\n",
    "\n",
    "# Visualizar la matriz de confusión para SVM\n",
    "plt.figure(figsize=(6, 4))\n",
    "sns.heatmap(confusion_matrix(y_test, y_pred_svm), annot=True, fmt='d', cmap='Greens')\n",
    "plt.title(\"Confusion Matrix - SVM\")\n",
    "plt.xlabel(\"Predicted\")\n",
    "plt.ylabel(\"True\")\n",
    "plt.show()"
   ]
  },
  {
   "cell_type": "markdown",
   "id": "46d078ba",
   "metadata": {},
   "source": [
    "\n",
    "4. **Selección del Modelo Óptimo**:\n",
    "   - Basándose en el desempeño de los modelos, seleccionar el más adecuado para el problema planteado.\n",
    "   - Justificar la selección mediante un análisis detallado.\n",
    "\n",
    "## Preguntas\n",
    "1. ¿Cuál fue el modelo que mostró el mejor desempeño? Justifique su respuesta basándose en las métricas de evaluación.\n",
    "2. ¿Qué desafíos enfrentó al implementar los algoritmos de clasificación y cómo los resolvió?\n",
    "3. ¿Qué pasos adicionales tomaría para mejorar el desempeño del modelo seleccionado?\n",
    "4. ¿Cómo podría aplicarse este modelo en un contexto del mundo real?\n",
    "\n",
    "## Requerimientos Entregables\n",
    "1. Un reporte en formato PDF que contenga:\n",
    "   - Introducción y descripción del problema.\n",
    "   - Análisis de los datos (incluyendo gráficos y tablas relevantes).\n",
    "   - Resultados de los modelos de clasificación y su evaluación.\n",
    "   - Conclusiones y recomendaciones.\n",
    "2. Código fuente en Python en formato Jupyter Notebook (*.ipynb*)."
   ]
  }
 ],
 "metadata": {
  "kernelspec": {
   "display_name": "base",
   "language": "python",
   "name": "python3"
  },
  "language_info": {
   "codemirror_mode": {
    "name": "ipython",
    "version": 3
   },
   "file_extension": ".py",
   "mimetype": "text/x-python",
   "name": "python",
   "nbconvert_exporter": "python",
   "pygments_lexer": "ipython3",
   "version": "3.11.3"
  }
 },
 "nbformat": 4,
 "nbformat_minor": 5
}
